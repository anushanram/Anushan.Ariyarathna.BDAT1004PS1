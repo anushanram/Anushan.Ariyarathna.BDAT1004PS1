{
 "cells": [
  {
   "cell_type": "markdown",
   "id": "e6e312d8",
   "metadata": {},
   "source": [
    "# BDAT 1004  Problem Set 1 - Anushan Ariyarathna (200513559)"
   ]
  },
  {
   "cell_type": "markdown",
   "id": "1856a9dc",
   "metadata": {},
   "source": [
    "### Question 1"
   ]
  },
  {
   "cell_type": "code",
   "execution_count": 1,
   "id": "368e2f7c",
   "metadata": {},
   "outputs": [
    {
     "data": {
      "text/plain": [
       "int"
      ]
     },
     "execution_count": 1,
     "metadata": {},
     "output_type": "execute_result"
    }
   ],
   "source": [
    "type(5)      # (a)"
   ]
  },
  {
   "cell_type": "code",
   "execution_count": 2,
   "id": "5fa8c4d7",
   "metadata": {},
   "outputs": [
    {
     "data": {
      "text/plain": [
       "float"
      ]
     },
     "execution_count": 2,
     "metadata": {},
     "output_type": "execute_result"
    }
   ],
   "source": [
    "type(5.0)    # (b)"
   ]
  },
  {
   "cell_type": "code",
   "execution_count": 3,
   "id": "57c72c59",
   "metadata": {},
   "outputs": [
    {
     "data": {
      "text/plain": [
       "bool"
      ]
     },
     "execution_count": 3,
     "metadata": {},
     "output_type": "execute_result"
    }
   ],
   "source": [
    "type(5>1)    # (c)"
   ]
  },
  {
   "cell_type": "code",
   "execution_count": 4,
   "id": "41c434bc",
   "metadata": {},
   "outputs": [
    {
     "data": {
      "text/plain": [
       "str"
      ]
     },
     "execution_count": 4,
     "metadata": {},
     "output_type": "execute_result"
    }
   ],
   "source": [
    "type('5')    # (d)"
   ]
  },
  {
   "cell_type": "code",
   "execution_count": 5,
   "id": "291baf5e",
   "metadata": {},
   "outputs": [
    {
     "data": {
      "text/plain": [
       "int"
      ]
     },
     "execution_count": 5,
     "metadata": {},
     "output_type": "execute_result"
    }
   ],
   "source": [
    "type(5*2)    # (e)"
   ]
  },
  {
   "cell_type": "code",
   "execution_count": 6,
   "id": "00b18333",
   "metadata": {},
   "outputs": [
    {
     "data": {
      "text/plain": [
       "str"
      ]
     },
     "execution_count": 6,
     "metadata": {},
     "output_type": "execute_result"
    }
   ],
   "source": [
    "type('5'*2)  # (f)"
   ]
  },
  {
   "cell_type": "code",
   "execution_count": 7,
   "id": "c46dcc08",
   "metadata": {},
   "outputs": [
    {
     "data": {
      "text/plain": [
       "str"
      ]
     },
     "execution_count": 7,
     "metadata": {},
     "output_type": "execute_result"
    }
   ],
   "source": [
    "type('5'+'2')# (g)"
   ]
  },
  {
   "cell_type": "code",
   "execution_count": 8,
   "id": "24205022",
   "metadata": {},
   "outputs": [
    {
     "data": {
      "text/plain": [
       "float"
      ]
     },
     "execution_count": 8,
     "metadata": {},
     "output_type": "execute_result"
    }
   ],
   "source": [
    "type(5/2)    # (h)"
   ]
  },
  {
   "cell_type": "code",
   "execution_count": 9,
   "id": "75f2e527",
   "metadata": {},
   "outputs": [
    {
     "data": {
      "text/plain": [
       "int"
      ]
     },
     "execution_count": 9,
     "metadata": {},
     "output_type": "execute_result"
    }
   ],
   "source": [
    "type(5%2)    # (i)"
   ]
  },
  {
   "cell_type": "code",
   "execution_count": 10,
   "id": "b595982b",
   "metadata": {},
   "outputs": [
    {
     "data": {
      "text/plain": [
       "set"
      ]
     },
     "execution_count": 10,
     "metadata": {},
     "output_type": "execute_result"
    }
   ],
   "source": [
    "type({5,2,1})# (j)"
   ]
  },
  {
   "cell_type": "code",
   "execution_count": 11,
   "id": "ec67a5a2",
   "metadata": {},
   "outputs": [
    {
     "data": {
      "text/plain": [
       "bool"
      ]
     },
     "execution_count": 11,
     "metadata": {},
     "output_type": "execute_result"
    }
   ],
   "source": [
    "type(5==3)   # (k)"
   ]
  },
  {
   "cell_type": "code",
   "execution_count": 13,
   "id": "23f1023a",
   "metadata": {},
   "outputs": [
    {
     "data": {
      "text/plain": [
       "float"
      ]
     },
     "execution_count": 13,
     "metadata": {},
     "output_type": "execute_result"
    }
   ],
   "source": [
    "import math  # (l)\n",
    "type(math.pi)"
   ]
  },
  {
   "cell_type": "markdown",
   "id": "c9c7a280",
   "metadata": {},
   "source": [
    "**Summary**\n",
    "\n",
    "| Value | Data Type |\n",
    "| ----------- | ----------- |\n",
    "| 5 | int |\n",
    "| 5.0 | float |\n",
    "| 5>1 | bool |\n",
    "| '5' | str |\n",
    "| 5*2 | int |\n",
    "| '5'*2 | str |\n",
    "| '5'+'2' | str |\n",
    "| 5/2 | float |\n",
    "| 5%2 | int |\n",
    "| {5,2,1} | set |\n",
    "| 5==3 | bool |\n",
    "| Pi | float |"
   ]
  },
  {
   "cell_type": "markdown",
   "id": "7b5e0471",
   "metadata": {},
   "source": [
    "### Question 2"
   ]
  },
  {
   "cell_type": "markdown",
   "id": "291c6715",
   "metadata": {},
   "source": [
    "***(a)***"
   ]
  },
  {
   "cell_type": "code",
   "execution_count": 14,
   "id": "d1079b87",
   "metadata": {},
   "outputs": [
    {
     "data": {
      "text/plain": [
       "34"
      ]
     },
     "execution_count": 14,
     "metadata": {},
     "output_type": "execute_result"
    }
   ],
   "source": [
    "len(\"Supercalifragilisticexpialidocious\")"
   ]
  },
  {
   "cell_type": "markdown",
   "id": "89c86393",
   "metadata": {},
   "source": [
    "***(b)***"
   ]
  },
  {
   "cell_type": "code",
   "execution_count": 15,
   "id": "35b30af6",
   "metadata": {},
   "outputs": [
    {
     "data": {
      "text/plain": [
       "True"
      ]
     },
     "execution_count": 15,
     "metadata": {},
     "output_type": "execute_result"
    }
   ],
   "source": [
    "\"ice\" in \"Supercalifragilisticexpialidocious\""
   ]
  },
  {
   "cell_type": "markdown",
   "id": "b7aab600",
   "metadata": {},
   "source": [
    "***(c)***"
   ]
  },
  {
   "cell_type": "code",
   "execution_count": 16,
   "id": "5672ddf9",
   "metadata": {},
   "outputs": [
    {
     "data": {
      "text/plain": [
       "'Bababadalgharaghtakamminarronnkonn'"
      ]
     },
     "execution_count": 16,
     "metadata": {},
     "output_type": "execute_result"
    }
   ],
   "source": [
    "word_list = [\"Supercalifragilisticexpialidocious\",\"Honorificabilitudinitatibus\",\"Bababadalgharaghtakamminarronnkonn\"]\n",
    "\n",
    "def get_largest_word(word_list):\n",
    "    num_words = 0\n",
    "    largest_word = \"\"\n",
    "    for word in word_list:\n",
    "        if (len(word)>num_words):\n",
    "            largest_word = word\n",
    "        else: pass\n",
    "    return largest_word\n",
    "\n",
    "get_largest_word(word_list)"
   ]
  },
  {
   "cell_type": "markdown",
   "id": "248d9be4",
   "metadata": {},
   "source": [
    "***(d)***"
   ]
  },
  {
   "cell_type": "code",
   "execution_count": 20,
   "id": "f82a3681",
   "metadata": {},
   "outputs": [
    {
     "name": "stdout",
     "output_type": "stream",
     "text": [
      "First word - Bartok, Last word - Buxtehude\n"
     ]
    }
   ],
   "source": [
    "word_list = ['Berlioz', 'Borodin', 'Brian', 'Bartok', 'Bellini', 'Buxtehude', 'Bernstein']\n",
    "\n",
    "def get_first_and_last_words(word_list):\n",
    "    # sort list\n",
    "    word_list.sort()\n",
    "    \n",
    "    # get first and last item\n",
    "    first_word = word_list[0]\n",
    "    last_word = word_list[-1]\n",
    "    \n",
    "    return first_word,last_word\n",
    "    \n",
    "first_word,last_word = get_first_and_last_words(word_list)\n",
    "print(\"First word - {}, Last word - {}\".format(first_word,last_word))"
   ]
  },
  {
   "cell_type": "markdown",
   "id": "21623f86",
   "metadata": {},
   "source": [
    "### Question 3"
   ]
  },
  {
   "cell_type": "code",
   "execution_count": 21,
   "id": "0d398398",
   "metadata": {},
   "outputs": [
    {
     "name": "stdout",
     "output_type": "stream",
     "text": [
      "1.7320508075688772\n"
     ]
    }
   ],
   "source": [
    "import math\n",
    "\n",
    "def triangleArea(a,b,c):\n",
    "    s = (a +b + c)/2\n",
    "    area = math.sqrt(s*(s-a)*(s-b)*(s-c))\n",
    "    return area\n",
    "\n",
    "print(triangleArea(2,2,2))"
   ]
  },
  {
   "cell_type": "markdown",
   "id": "8ad84be7",
   "metadata": {},
   "source": [
    "### Question 4"
   ]
  },
  {
   "cell_type": "code",
   "execution_count": 23,
   "id": "42d34a31",
   "metadata": {},
   "outputs": [
    {
     "name": "stdout",
     "output_type": "stream",
     "text": [
      "Enter number here :25\n",
      "Enter number here :47\n",
      "Enter number here :42\n",
      "Enter number here :56\n",
      "Enter number here :32\n",
      "The Even elements are: 32 56 42 \n",
      "The Odd elements are : 47 25 \n"
     ]
    }
   ],
   "source": [
    "def seperate_odd_and_even_number():\n",
    "    # get user input and store them\n",
    "    val_list = []\n",
    "    for i in range(0,5):\n",
    "        number = input(\"Enter number here :\")\n",
    "        val_list.append(int(number))\n",
    "    \n",
    "    # get odd and even numbers\n",
    "    even_numbers = \"\"\n",
    "    odd_numbers = \"\"\n",
    "    \n",
    "    for number in val_list:\n",
    "        if (number%2==0):\n",
    "            even_numbers = str(number) + \" \" + even_numbers\n",
    "        else:\n",
    "            odd_numbers = str(number) + \" \" + odd_numbers\n",
    "    print(\"The Even elements are: {}\".format(even_numbers))\n",
    "    print(\"The Odd elements are : {}\".format(odd_numbers))\n",
    "    \n",
    "seperate_odd_and_even_number()"
   ]
  },
  {
   "cell_type": "markdown",
   "id": "7c696ea5",
   "metadata": {},
   "source": [
    "### Question 5"
   ]
  },
  {
   "cell_type": "markdown",
   "id": "09e6d2d1",
   "metadata": {},
   "source": [
    "***(a)***"
   ]
  },
  {
   "cell_type": "code",
   "execution_count": 25,
   "id": "8de9c45d",
   "metadata": {},
   "outputs": [
    {
     "name": "stdout",
     "output_type": "stream",
     "text": [
      "True\n",
      "False\n"
     ]
    }
   ],
   "source": [
    "def inside(x,y,x1,y1,x2,y2):\n",
    "    x_inside = False\n",
    "    y_inside = False\n",
    "    \n",
    "    # check x co-ordinates\n",
    "    if (x1<x<x2):\n",
    "        x_inside = True\n",
    "    else:\n",
    "        x_inside = False\n",
    "    \n",
    "    # check y co-ordinates\n",
    "    if (y1<y<y2):\n",
    "        y_inside = True\n",
    "    else:\n",
    "        y_inside = False\n",
    "        \n",
    "    if (x_inside) and (y_inside):\n",
    "        return True\n",
    "    else:\n",
    "        return False\n",
    "    \n",
    "print(inside(1,1,0,0,2,3))\n",
    "print(inside(-1,-1,0,0,2,3))"
   ]
  },
  {
   "cell_type": "markdown",
   "id": "4cb466c7",
   "metadata": {},
   "source": [
    "***(b)***"
   ]
  },
  {
   "cell_type": "code",
   "execution_count": 26,
   "id": "d43183e0",
   "metadata": {},
   "outputs": [
    {
     "data": {
      "text/plain": [
       "False"
      ]
     },
     "execution_count": 26,
     "metadata": {},
     "output_type": "execute_result"
    }
   ],
   "source": [
    "inside(1,1,0.3,0.5,1.1,0.7) and inside(1,1,0.5,0.2,1.1,2)"
   ]
  },
  {
   "cell_type": "markdown",
   "id": "3f6869f8",
   "metadata": {},
   "source": [
    "### Question 6"
   ]
  },
  {
   "cell_type": "code",
   "execution_count": 33,
   "id": "dbc26eca",
   "metadata": {},
   "outputs": [
    {
     "name": "stdout",
     "output_type": "stream",
     "text": [
      "appyhay\n",
      "enterway\n"
     ]
    }
   ],
   "source": [
    "def pig(word):\n",
    "    vowels = ['a', 'e', 'i', 'o', 'u']\n",
    "    consonants = ['b','c','d','f','g','h','j','k','l','m','n','p','q','r','s','t','v','w','x','y','z']\n",
    "    \n",
    "    # lowercase the word\n",
    "    word = word.lower()\n",
    "    \n",
    "    # first character\n",
    "    first_char = word[0]\n",
    "    \n",
    "    if first_char in vowels:\n",
    "        word = word + \"way\"\n",
    "    elif first_char in consonants:\n",
    "        word = word[1:] + first_char + \"ay\"\n",
    "    else: pass\n",
    "    return word\n",
    "\n",
    "print(pig('happy'))\n",
    "print(pig('Enter'))"
   ]
  },
  {
   "cell_type": "markdown",
   "id": "fd7350bb",
   "metadata": {},
   "source": [
    "### Question 7"
   ]
  },
  {
   "cell_type": "code",
   "execution_count": 77,
   "id": "63808eff",
   "metadata": {},
   "outputs": [
    {
     "name": "stdout",
     "output_type": "stream",
     "text": [
      "There are 15 patients of blood type A.\n",
      "There is one patient of blood type B.\n",
      "There are 13 patients of blood type AB.\n",
      "There are 15 patients of blood type O.\n",
      "There are no patients of blood type OO.\n"
     ]
    }
   ],
   "source": [
    "def bldcount(file_name):\n",
    "    # get file object\n",
    "    f = open(file_name,'r')\n",
    "    \n",
    "    # read file lines\n",
    "    file_lines = f.readlines()\n",
    "    \n",
    "    # check multi-lines\n",
    "    blood_types = \" \"\n",
    "    if len(file_lines) > 1:\n",
    "        for line in file_lines:\n",
    "            blood_types = line + blood_types\n",
    "            \n",
    "    elif (len(file_lines) == 1):\n",
    "        blood_types = file_lines[0]\n",
    "        \n",
    "    else:\n",
    "        print(\"no records\")\n",
    "        \n",
    "    # loop through blood types\n",
    "    blood_types_count = {\"A\":0, \"B\":0, \"AB\":0, \"O\":0, \"OO\":0}\n",
    "    \n",
    "    for blood_type in blood_types.split(\" \"):\n",
    "        blood_types_count[blood_type] += 1\n",
    "    \n",
    "    # final result\n",
    "    for blood_type in blood_types_count:\n",
    "        if blood_types_count[blood_type] == 0:\n",
    "            print(\"There are no patients of blood type {}.\".format(blood_type))\n",
    "        elif blood_types_count[blood_type] == 1:\n",
    "            print(\"There is one patient of blood type {}.\".format(blood_type))\n",
    "        else:\n",
    "            print(\"There are {} patients of blood type {}.\".format(blood_types_count[blood_type],blood_type))\n",
    "    f.close()\n",
    "    \n",
    "bldcount('Datasets/bloodtype.txt')"
   ]
  },
  {
   "cell_type": "markdown",
   "id": "52386515",
   "metadata": {},
   "source": [
    "### Question 8"
   ]
  },
  {
   "cell_type": "code",
   "execution_count": 56,
   "id": "a47fa10e",
   "metadata": {},
   "outputs": [
    {
     "name": "stdout",
     "output_type": "stream",
     "text": [
      "122.96544\n",
      "1.241401\n"
     ]
    }
   ],
   "source": [
    "def curconv(currency_string,amount):\n",
    "    # get file object\n",
    "    f = open('Datasets/currencies.txt','r')\n",
    "    \n",
    "    # read file lines\n",
    "    file_lines = f.readlines()\n",
    "    \n",
    "    # clean data\n",
    "    currencies = {}\n",
    "    \n",
    "    for currency in file_lines:\n",
    "        currencies[currency.split(\"\\t\")[0]] = currency.split(\"\\t\")[1]\n",
    "    return float(currencies[currency_string])*amount    \n",
    "    \n",
    "print(curconv('EUR', 100))\n",
    "print(curconv('JPY', 100))"
   ]
  },
  {
   "cell_type": "markdown",
   "id": "0e689043",
   "metadata": {},
   "source": [
    "### Question 9"
   ]
  },
  {
   "cell_type": "markdown",
   "id": "3ee12f1f",
   "metadata": {},
   "source": [
    "***(a)***"
   ]
  },
  {
   "cell_type": "code",
   "execution_count": 57,
   "id": "4b9162de",
   "metadata": {},
   "outputs": [
    {
     "ename": "TypeError",
     "evalue": "unsupported operand type(s) for +: 'int' and 'str'",
     "output_type": "error",
     "traceback": [
      "\u001b[1;31m---------------------------------------------------------------------------\u001b[0m",
      "\u001b[1;31mTypeError\u001b[0m                                 Traceback (most recent call last)",
      "Cell \u001b[1;32mIn[57], line 2\u001b[0m\n\u001b[0;32m      1\u001b[0m \u001b[38;5;66;03m# Trying to add incompatible variables, \u001b[39;00m\n\u001b[1;32m----> 2\u001b[0m \u001b[38;5;241;43m6\u001b[39;49m\u001b[43m \u001b[49m\u001b[38;5;241;43m+\u001b[39;49m\u001b[43m \u001b[49m\u001b[38;5;124;43m'\u001b[39;49m\u001b[38;5;124;43ma\u001b[39;49m\u001b[38;5;124;43m'\u001b[39;49m\n",
      "\u001b[1;31mTypeError\u001b[0m: unsupported operand type(s) for +: 'int' and 'str'"
     ]
    }
   ],
   "source": [
    "# Trying to add incompatible variables, \n",
    "6 + 'a'"
   ]
  },
  {
   "cell_type": "markdown",
   "id": "2d41ddfd",
   "metadata": {},
   "source": [
    "***(b)***"
   ]
  },
  {
   "cell_type": "code",
   "execution_count": 58,
   "id": "d5929f0c",
   "metadata": {},
   "outputs": [
    {
     "ename": "IndexError",
     "evalue": "list index out of range",
     "output_type": "error",
     "traceback": [
      "\u001b[1;31m---------------------------------------------------------------------------\u001b[0m",
      "\u001b[1;31mIndexError\u001b[0m                                Traceback (most recent call last)",
      "Cell \u001b[1;32mIn[58], line 3\u001b[0m\n\u001b[0;32m      1\u001b[0m \u001b[38;5;66;03m# Referring to the 12th item of a list that has only 10 items\u001b[39;00m\n\u001b[0;32m      2\u001b[0m value_list \u001b[38;5;241m=\u001b[39m [\u001b[38;5;241m0\u001b[39m,\u001b[38;5;241m1\u001b[39m,\u001b[38;5;241m2\u001b[39m,\u001b[38;5;241m3\u001b[39m,\u001b[38;5;241m4\u001b[39m,\u001b[38;5;241m5\u001b[39m,\u001b[38;5;241m6\u001b[39m,\u001b[38;5;241m7\u001b[39m,\u001b[38;5;241m8\u001b[39m,\u001b[38;5;241m9\u001b[39m]\n\u001b[1;32m----> 3\u001b[0m \u001b[43mvalue_list\u001b[49m\u001b[43m[\u001b[49m\u001b[38;5;241;43m11\u001b[39;49m\u001b[43m]\u001b[49m\n",
      "\u001b[1;31mIndexError\u001b[0m: list index out of range"
     ]
    }
   ],
   "source": [
    "# Referring to the 12th item of a list that has only 10 items\n",
    "value_list = [0,1,2,3,4,5,6,7,8,9]\n",
    "value_list[11]"
   ]
  },
  {
   "cell_type": "markdown",
   "id": "b8c50be7",
   "metadata": {},
   "source": [
    "***(c)***"
   ]
  },
  {
   "cell_type": "code",
   "execution_count": 60,
   "id": "8960e42f",
   "metadata": {},
   "outputs": [
    {
     "ename": "ValueError",
     "evalue": "math domain error",
     "output_type": "error",
     "traceback": [
      "\u001b[1;31m---------------------------------------------------------------------------\u001b[0m",
      "\u001b[1;31mValueError\u001b[0m                                Traceback (most recent call last)",
      "Cell \u001b[1;32mIn[60], line 3\u001b[0m\n\u001b[0;32m      1\u001b[0m \u001b[38;5;66;03m# Using a value that is out of range for a function’s input, such as calling\u001b[39;00m\n\u001b[0;32m      2\u001b[0m \u001b[38;5;28;01mimport\u001b[39;00m \u001b[38;5;21;01mmath\u001b[39;00m\n\u001b[1;32m----> 3\u001b[0m \u001b[43mmath\u001b[49m\u001b[38;5;241;43m.\u001b[39;49m\u001b[43msqrt\u001b[49m\u001b[43m(\u001b[49m\u001b[38;5;241;43m-\u001b[39;49m\u001b[38;5;241;43m1.0\u001b[39;49m\u001b[43m)\u001b[49m\n",
      "\u001b[1;31mValueError\u001b[0m: math domain error"
     ]
    }
   ],
   "source": [
    "# Using a value that is out of range for a function’s input\n",
    "import math\n",
    "math.sqrt(-1.0)"
   ]
  },
  {
   "cell_type": "markdown",
   "id": "3e62d730",
   "metadata": {},
   "source": [
    "***(d)***"
   ]
  },
  {
   "cell_type": "code",
   "execution_count": 61,
   "id": "4d23132f",
   "metadata": {},
   "outputs": [
    {
     "ename": "NameError",
     "evalue": "name 'undeclared_variable' is not defined",
     "output_type": "error",
     "traceback": [
      "\u001b[1;31m---------------------------------------------------------------------------\u001b[0m",
      "\u001b[1;31mNameError\u001b[0m                                 Traceback (most recent call last)",
      "Cell \u001b[1;32mIn[61], line 2\u001b[0m\n\u001b[0;32m      1\u001b[0m \u001b[38;5;66;03m# Using an undeclared variable\u001b[39;00m\n\u001b[1;32m----> 2\u001b[0m \u001b[38;5;28mprint\u001b[39m(\u001b[43mundeclared_variable\u001b[49m)\n",
      "\u001b[1;31mNameError\u001b[0m: name 'undeclared_variable' is not defined"
     ]
    }
   ],
   "source": [
    "# Using an undeclared variable\n",
    "print(undeclared_variable)"
   ]
  },
  {
   "cell_type": "markdown",
   "id": "ce4315ad",
   "metadata": {},
   "source": [
    "***(e)***"
   ]
  },
  {
   "cell_type": "code",
   "execution_count": 62,
   "id": "7dd2c0b4",
   "metadata": {},
   "outputs": [
    {
     "ename": "FileNotFoundError",
     "evalue": "[Errno 2] No such file or directory: 'file_does_not_exist.txt'",
     "output_type": "error",
     "traceback": [
      "\u001b[1;31m---------------------------------------------------------------------------\u001b[0m",
      "\u001b[1;31mFileNotFoundError\u001b[0m                         Traceback (most recent call last)",
      "Cell \u001b[1;32mIn[62], line 2\u001b[0m\n\u001b[0;32m      1\u001b[0m \u001b[38;5;66;03m# Trying to open a file that does not exist\u001b[39;00m\n\u001b[1;32m----> 2\u001b[0m f \u001b[38;5;241m=\u001b[39m \u001b[38;5;28;43mopen\u001b[39;49m\u001b[43m(\u001b[49m\u001b[38;5;124;43m'\u001b[39;49m\u001b[38;5;124;43mfile_does_not_exist.txt\u001b[39;49m\u001b[38;5;124;43m'\u001b[39;49m\u001b[43m,\u001b[49m\u001b[38;5;124;43m'\u001b[39;49m\u001b[38;5;124;43mr\u001b[39;49m\u001b[38;5;124;43m'\u001b[39;49m\u001b[43m)\u001b[49m\n",
      "File \u001b[1;32mc:\\users\\hpanu\\appdata\\local\\programs\\python\\python39\\lib\\site-packages\\IPython\\core\\interactiveshell.py:282\u001b[0m, in \u001b[0;36m_modified_open\u001b[1;34m(file, *args, **kwargs)\u001b[0m\n\u001b[0;32m    275\u001b[0m \u001b[38;5;28;01mif\u001b[39;00m file \u001b[38;5;129;01min\u001b[39;00m {\u001b[38;5;241m0\u001b[39m, \u001b[38;5;241m1\u001b[39m, \u001b[38;5;241m2\u001b[39m}:\n\u001b[0;32m    276\u001b[0m     \u001b[38;5;28;01mraise\u001b[39;00m \u001b[38;5;167;01mValueError\u001b[39;00m(\n\u001b[0;32m    277\u001b[0m         \u001b[38;5;124mf\u001b[39m\u001b[38;5;124m\"\u001b[39m\u001b[38;5;124mIPython won\u001b[39m\u001b[38;5;124m'\u001b[39m\u001b[38;5;124mt let you open fd=\u001b[39m\u001b[38;5;132;01m{\u001b[39;00mfile\u001b[38;5;132;01m}\u001b[39;00m\u001b[38;5;124m by default \u001b[39m\u001b[38;5;124m\"\u001b[39m\n\u001b[0;32m    278\u001b[0m         \u001b[38;5;124m\"\u001b[39m\u001b[38;5;124mas it is likely to crash IPython. If you know what you are doing, \u001b[39m\u001b[38;5;124m\"\u001b[39m\n\u001b[0;32m    279\u001b[0m         \u001b[38;5;124m\"\u001b[39m\u001b[38;5;124myou can use builtins\u001b[39m\u001b[38;5;124m'\u001b[39m\u001b[38;5;124m open.\u001b[39m\u001b[38;5;124m\"\u001b[39m\n\u001b[0;32m    280\u001b[0m     )\n\u001b[1;32m--> 282\u001b[0m \u001b[38;5;28;01mreturn\u001b[39;00m io_open(file, \u001b[38;5;241m*\u001b[39margs, \u001b[38;5;241m*\u001b[39m\u001b[38;5;241m*\u001b[39mkwargs)\n",
      "\u001b[1;31mFileNotFoundError\u001b[0m: [Errno 2] No such file or directory: 'file_does_not_exist.txt'"
     ]
    }
   ],
   "source": [
    "# Trying to open a file that does not exist\n",
    "f = open('file_does_not_exist.txt','r')"
   ]
  },
  {
   "cell_type": "markdown",
   "id": "e3783c94",
   "metadata": {},
   "source": [
    "***Summary***\n",
    "\n",
    "| Part Number | Exception Type |\n",
    "| ----------- | ----------- |\n",
    "| a | TypeError |\n",
    "| b | IndexError |\n",
    "| c | ValueError |\n",
    "| d | NameError |\n",
    "| e | FileNotFoundError |"
   ]
  },
  {
   "cell_type": "markdown",
   "id": "9986c6dd",
   "metadata": {},
   "source": [
    "### Question 10"
   ]
  },
  {
   "cell_type": "code",
   "execution_count": 66,
   "id": "34b309b6",
   "metadata": {},
   "outputs": [
    {
     "name": "stdout",
     "output_type": "stream",
     "text": [
      "[1, 1, 1, 3, 5, 1, 1, 2, 1, 0, 1, 0, 1, 2, 4, 0, 1, 2, 0, 2, 1, 0, 1, 1, 0, 0]\n",
      "[1, 0, 0, 0, 1, 0, 0, 0, 0, 0, 0, 1, 0, 0, 0, 2, 0, 0, 0, 0, 0, 0, 0, 0, 0, 0]\n"
     ]
    }
   ],
   "source": [
    "# method 1 - without lowercasing input string\n",
    "\n",
    "def frequencies(string_value):\n",
    "    letters = 'abcdefghijklmnopqrstuvwxyz'\n",
    "    \n",
    "    # create initial letters count dictionary\n",
    "    letters_count = {}\n",
    "    for letter in letters:\n",
    "        letters_count[letter] = 0\n",
    "        \n",
    "    # loop through each character in input string\n",
    "    for character in string_value:    \n",
    "        if character in letters:\n",
    "            letters_count[character] += 1\n",
    "        else: pass    # eliminate not-letters\n",
    "        \n",
    "    # generate output list\n",
    "    letter_count = []\n",
    "    for letter in letters:\n",
    "        letter_count.append(letters_count[letter])\n",
    "    \n",
    "    return letter_count\n",
    "\n",
    "print(frequencies('The quick red fox got bored and went home.'))\n",
    "print(frequencies('apple'))"
   ]
  },
  {
   "cell_type": "code",
   "execution_count": 67,
   "id": "3c4b9cef",
   "metadata": {},
   "outputs": [
    {
     "name": "stdout",
     "output_type": "stream",
     "text": [
      "[1, 1, 1, 3, 5, 1, 1, 2, 1, 0, 1, 0, 1, 2, 4, 0, 1, 2, 0, 3, 1, 0, 1, 1, 0, 0]\n",
      "[1, 0, 0, 0, 1, 0, 0, 0, 0, 0, 0, 1, 0, 0, 0, 2, 0, 0, 0, 0, 0, 0, 0, 0, 0, 0]\n"
     ]
    }
   ],
   "source": [
    "# method 2 - with lowercasing input string\n",
    "\n",
    "def frequencies(string_value):\n",
    "    letters = 'abcdefghijklmnopqrstuvwxyz'\n",
    "    \n",
    "    # create initial letters count dictionary\n",
    "    letters_count = {}\n",
    "    for letter in letters:\n",
    "        letters_count[letter] = 0\n",
    "        \n",
    "    # loop through each character in input string\n",
    "    for character in string_value.lower():    # lowercase input string\n",
    "        if character in letters:\n",
    "            letters_count[character] += 1\n",
    "        else: pass    # eliminate not-letters\n",
    "        \n",
    "    # generate output list\n",
    "    letter_count = []\n",
    "    for letter in letters:\n",
    "        letter_count.append(letters_count[letter])\n",
    "    \n",
    "    return letter_count\n",
    "\n",
    "print(frequencies('The quick red fox got bored and went home.'))\n",
    "print(frequencies('apple'))"
   ]
  }
 ],
 "metadata": {
  "kernelspec": {
   "display_name": "Python 3 (ipykernel)",
   "language": "python",
   "name": "python3"
  },
  "language_info": {
   "codemirror_mode": {
    "name": "ipython",
    "version": 3
   },
   "file_extension": ".py",
   "mimetype": "text/x-python",
   "name": "python",
   "nbconvert_exporter": "python",
   "pygments_lexer": "ipython3",
   "version": "3.9.0"
  }
 },
 "nbformat": 4,
 "nbformat_minor": 5
}
